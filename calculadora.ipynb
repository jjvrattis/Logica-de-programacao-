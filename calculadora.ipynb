{
  "nbformat": 4,
  "nbformat_minor": 0,
  "metadata": {
    "colab": {
      "provenance": []
    },
    "kernelspec": {
      "name": "python3",
      "display_name": "Python 3"
    },
    "language_info": {
      "name": "python"
    }
  },
  "cells": [
    {
      "cell_type": "code",
      "source": [
        "# Numeros solicitados\n",
        "numero1 = float(input('Digite o primeiro número: '))\n",
        "numero2 = float(input('Digite o segundo número: '))\n",
        "\n",
        "# Menu\n",
        "opera1 = input('Digite a operação (+, -, x, /): ')\n",
        "\n",
        "# Estrutura das operções\n",
        "if opera1 == '+':\n",
        "    resultado = numero1 + numero2\n",
        "elif opera1 == '-':\n",
        "    resultado = numero1 - numero2\n",
        "elif opera1 == 'x':\n",
        "    resultado = numero1 * numero2\n",
        "elif opera1 == '/':\n",
        "    if numero2 != 0:\n",
        "        resultado = numero1 / numero2\n",
        "    else:\n",
        "        resultado = \"Erro: Divisão por zero não é permitida.\"\n",
        "else:\n",
        "    resultado = \"Operação inválida.\"\n",
        "\n",
        "#Resultado\n",
        "print(f\"Resultado: {resultado}\")\n"
      ],
      "metadata": {
        "id": "6L7wFdvQ5O-r"
      },
      "execution_count": null,
      "outputs": []
    }
  ]
}